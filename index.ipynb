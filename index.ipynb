{
 "cells": [
  {
   "cell_type": "markdown",
   "metadata": {},
   "source": [
    "# Logistic Regression in SciKit Learn - Lab\n",
    "\n",
    "## Introduction \n",
    "\n",
    "In this lab, we are going to fit a logistic regression model to a dataset concerning heart disease. Whether or not a patient has heart disease is indicated in the final column labelled 'target'. 1 is for positive for heart disease while 0 indicates no heart disease.\n",
    "\n",
    "## Objectives\n",
    "You will be able to:\n",
    "\n",
    "* Understand and implement logistic regression\n",
    "* Compare testing and training errors\n",
    "\n",
    "## Let's get started!"
   ]
  },
  {
   "cell_type": "code",
   "execution_count": 2,
   "metadata": {},
   "outputs": [],
   "source": [
    "#Starter Code\n",
    "from sklearn.linear_model import LogisticRegression\n",
    "from sklearn.model_selection import train_test_split\n",
    "import pandas as pd"
   ]
  },
  {
   "cell_type": "code",
   "execution_count": 3,
   "metadata": {},
   "outputs": [
    {
     "data": {
      "text/html": [
       "<div>\n",
       "<style scoped>\n",
       "    .dataframe tbody tr th:only-of-type {\n",
       "        vertical-align: middle;\n",
       "    }\n",
       "\n",
       "    .dataframe tbody tr th {\n",
       "        vertical-align: top;\n",
       "    }\n",
       "\n",
       "    .dataframe thead th {\n",
       "        text-align: right;\n",
       "    }\n",
       "</style>\n",
       "<table border=\"1\" class=\"dataframe\">\n",
       "  <thead>\n",
       "    <tr style=\"text-align: right;\">\n",
       "      <th></th>\n",
       "      <th>age</th>\n",
       "      <th>sex</th>\n",
       "      <th>cp</th>\n",
       "      <th>trestbps</th>\n",
       "      <th>chol</th>\n",
       "      <th>fbs</th>\n",
       "      <th>restecg</th>\n",
       "      <th>thalach</th>\n",
       "      <th>exang</th>\n",
       "      <th>oldpeak</th>\n",
       "      <th>slope</th>\n",
       "      <th>ca</th>\n",
       "      <th>thal</th>\n",
       "      <th>target</th>\n",
       "    </tr>\n",
       "  </thead>\n",
       "  <tbody>\n",
       "    <tr>\n",
       "      <th>0</th>\n",
       "      <td>63</td>\n",
       "      <td>1</td>\n",
       "      <td>3</td>\n",
       "      <td>145</td>\n",
       "      <td>233</td>\n",
       "      <td>1</td>\n",
       "      <td>0</td>\n",
       "      <td>150</td>\n",
       "      <td>0</td>\n",
       "      <td>2.3</td>\n",
       "      <td>0</td>\n",
       "      <td>0</td>\n",
       "      <td>1</td>\n",
       "      <td>1</td>\n",
       "    </tr>\n",
       "    <tr>\n",
       "      <th>1</th>\n",
       "      <td>37</td>\n",
       "      <td>1</td>\n",
       "      <td>2</td>\n",
       "      <td>130</td>\n",
       "      <td>250</td>\n",
       "      <td>0</td>\n",
       "      <td>1</td>\n",
       "      <td>187</td>\n",
       "      <td>0</td>\n",
       "      <td>3.5</td>\n",
       "      <td>0</td>\n",
       "      <td>0</td>\n",
       "      <td>2</td>\n",
       "      <td>1</td>\n",
       "    </tr>\n",
       "    <tr>\n",
       "      <th>2</th>\n",
       "      <td>41</td>\n",
       "      <td>0</td>\n",
       "      <td>1</td>\n",
       "      <td>130</td>\n",
       "      <td>204</td>\n",
       "      <td>0</td>\n",
       "      <td>0</td>\n",
       "      <td>172</td>\n",
       "      <td>0</td>\n",
       "      <td>1.4</td>\n",
       "      <td>2</td>\n",
       "      <td>0</td>\n",
       "      <td>2</td>\n",
       "      <td>1</td>\n",
       "    </tr>\n",
       "    <tr>\n",
       "      <th>3</th>\n",
       "      <td>56</td>\n",
       "      <td>1</td>\n",
       "      <td>1</td>\n",
       "      <td>120</td>\n",
       "      <td>236</td>\n",
       "      <td>0</td>\n",
       "      <td>1</td>\n",
       "      <td>178</td>\n",
       "      <td>0</td>\n",
       "      <td>0.8</td>\n",
       "      <td>2</td>\n",
       "      <td>0</td>\n",
       "      <td>2</td>\n",
       "      <td>1</td>\n",
       "    </tr>\n",
       "    <tr>\n",
       "      <th>4</th>\n",
       "      <td>57</td>\n",
       "      <td>0</td>\n",
       "      <td>0</td>\n",
       "      <td>120</td>\n",
       "      <td>354</td>\n",
       "      <td>0</td>\n",
       "      <td>1</td>\n",
       "      <td>163</td>\n",
       "      <td>1</td>\n",
       "      <td>0.6</td>\n",
       "      <td>2</td>\n",
       "      <td>0</td>\n",
       "      <td>2</td>\n",
       "      <td>1</td>\n",
       "    </tr>\n",
       "  </tbody>\n",
       "</table>\n",
       "</div>"
      ],
      "text/plain": [
       "   age  sex  cp  trestbps  chol  fbs  restecg  thalach  exang  oldpeak  slope  \\\n",
       "0   63    1   3       145   233    1        0      150      0      2.3      0   \n",
       "1   37    1   2       130   250    0        1      187      0      3.5      0   \n",
       "2   41    0   1       130   204    0        0      172      0      1.4      2   \n",
       "3   56    1   1       120   236    0        1      178      0      0.8      2   \n",
       "4   57    0   0       120   354    0        1      163      1      0.6      2   \n",
       "\n",
       "   ca  thal  target  \n",
       "0   0     1       1  \n",
       "1   0     2       1  \n",
       "2   0     2       1  \n",
       "3   0     2       1  \n",
       "4   0     2       1  "
      ]
     },
     "execution_count": 3,
     "metadata": {},
     "output_type": "execute_result"
    }
   ],
   "source": [
    "#Starter Code\n",
    "df = pd.read_csv('heart.csv')\n",
    "df.head()"
   ]
  },
  {
   "cell_type": "markdown",
   "metadata": {},
   "source": [
    "## Define appropriate X and y\n",
    "Recall the dataset is whether or not a patient has heart disease and is indicated in the final column labelled 'target'. With that, define appropriate X and y in order to model whether or not a patient has heart disease."
   ]
  },
  {
   "cell_type": "code",
   "execution_count": 8,
   "metadata": {},
   "outputs": [
    {
     "name": "stdout",
     "output_type": "stream",
     "text": [
      "     age  sex  cp  trestbps  chol  fbs  restecg  thalach  exang  oldpeak  \\\n",
      "0     63    1   3       145   233    1        0      150      0      2.3   \n",
      "1     37    1   2       130   250    0        1      187      0      3.5   \n",
      "2     41    0   1       130   204    0        0      172      0      1.4   \n",
      "3     56    1   1       120   236    0        1      178      0      0.8   \n",
      "4     57    0   0       120   354    0        1      163      1      0.6   \n",
      "5     57    1   0       140   192    0        1      148      0      0.4   \n",
      "6     56    0   1       140   294    0        0      153      0      1.3   \n",
      "7     44    1   1       120   263    0        1      173      0      0.0   \n",
      "8     52    1   2       172   199    1        1      162      0      0.5   \n",
      "9     57    1   2       150   168    0        1      174      0      1.6   \n",
      "10    54    1   0       140   239    0        1      160      0      1.2   \n",
      "11    48    0   2       130   275    0        1      139      0      0.2   \n",
      "12    49    1   1       130   266    0        1      171      0      0.6   \n",
      "13    64    1   3       110   211    0        0      144      1      1.8   \n",
      "14    58    0   3       150   283    1        0      162      0      1.0   \n",
      "15    50    0   2       120   219    0        1      158      0      1.6   \n",
      "16    58    0   2       120   340    0        1      172      0      0.0   \n",
      "17    66    0   3       150   226    0        1      114      0      2.6   \n",
      "18    43    1   0       150   247    0        1      171      0      1.5   \n",
      "19    69    0   3       140   239    0        1      151      0      1.8   \n",
      "20    59    1   0       135   234    0        1      161      0      0.5   \n",
      "21    44    1   2       130   233    0        1      179      1      0.4   \n",
      "22    42    1   0       140   226    0        1      178      0      0.0   \n",
      "23    61    1   2       150   243    1        1      137      1      1.0   \n",
      "24    40    1   3       140   199    0        1      178      1      1.4   \n",
      "25    71    0   1       160   302    0        1      162      0      0.4   \n",
      "26    59    1   2       150   212    1        1      157      0      1.6   \n",
      "27    51    1   2       110   175    0        1      123      0      0.6   \n",
      "28    65    0   2       140   417    1        0      157      0      0.8   \n",
      "29    53    1   2       130   197    1        0      152      0      1.2   \n",
      "..   ...  ...  ..       ...   ...  ...      ...      ...    ...      ...   \n",
      "273   58    1   0       100   234    0        1      156      0      0.1   \n",
      "274   47    1   0       110   275    0        0      118      1      1.0   \n",
      "275   52    1   0       125   212    0        1      168      0      1.0   \n",
      "276   58    1   0       146   218    0        1      105      0      2.0   \n",
      "277   57    1   1       124   261    0        1      141      0      0.3   \n",
      "278   58    0   1       136   319    1        0      152      0      0.0   \n",
      "279   61    1   0       138   166    0        0      125      1      3.6   \n",
      "280   42    1   0       136   315    0        1      125      1      1.8   \n",
      "281   52    1   0       128   204    1        1      156      1      1.0   \n",
      "282   59    1   2       126   218    1        1      134      0      2.2   \n",
      "283   40    1   0       152   223    0        1      181      0      0.0   \n",
      "284   61    1   0       140   207    0        0      138      1      1.9   \n",
      "285   46    1   0       140   311    0        1      120      1      1.8   \n",
      "286   59    1   3       134   204    0        1      162      0      0.8   \n",
      "287   57    1   1       154   232    0        0      164      0      0.0   \n",
      "288   57    1   0       110   335    0        1      143      1      3.0   \n",
      "289   55    0   0       128   205    0        2      130      1      2.0   \n",
      "290   61    1   0       148   203    0        1      161      0      0.0   \n",
      "291   58    1   0       114   318    0        2      140      0      4.4   \n",
      "292   58    0   0       170   225    1        0      146      1      2.8   \n",
      "293   67    1   2       152   212    0        0      150      0      0.8   \n",
      "294   44    1   0       120   169    0        1      144      1      2.8   \n",
      "295   63    1   0       140   187    0        0      144      1      4.0   \n",
      "296   63    0   0       124   197    0        1      136      1      0.0   \n",
      "297   59    1   0       164   176    1        0       90      0      1.0   \n",
      "298   57    0   0       140   241    0        1      123      1      0.2   \n",
      "299   45    1   3       110   264    0        1      132      0      1.2   \n",
      "300   68    1   0       144   193    1        1      141      0      3.4   \n",
      "301   57    1   0       130   131    0        1      115      1      1.2   \n",
      "302   57    0   1       130   236    0        0      174      0      0.0   \n",
      "\n",
      "     slope  ca  thal  \n",
      "0        0   0     1  \n",
      "1        0   0     2  \n",
      "2        2   0     2  \n",
      "3        2   0     2  \n",
      "4        2   0     2  \n",
      "5        1   0     1  \n",
      "6        1   0     2  \n",
      "7        2   0     3  \n",
      "8        2   0     3  \n",
      "9        2   0     2  \n",
      "10       2   0     2  \n",
      "11       2   0     2  \n",
      "12       2   0     2  \n",
      "13       1   0     2  \n",
      "14       2   0     2  \n",
      "15       1   0     2  \n",
      "16       2   0     2  \n",
      "17       0   0     2  \n",
      "18       2   0     2  \n",
      "19       2   2     2  \n",
      "20       1   0     3  \n",
      "21       2   0     2  \n",
      "22       2   0     2  \n",
      "23       1   0     2  \n",
      "24       2   0     3  \n",
      "25       2   2     2  \n",
      "26       2   0     2  \n",
      "27       2   0     2  \n",
      "28       2   1     2  \n",
      "29       0   0     2  \n",
      "..     ...  ..   ...  \n",
      "273      2   1     3  \n",
      "274      1   1     2  \n",
      "275      2   2     3  \n",
      "276      1   1     3  \n",
      "277      2   0     3  \n",
      "278      2   2     2  \n",
      "279      1   1     2  \n",
      "280      1   0     1  \n",
      "281      1   0     0  \n",
      "282      1   1     1  \n",
      "283      2   0     3  \n",
      "284      2   1     3  \n",
      "285      1   2     3  \n",
      "286      2   2     2  \n",
      "287      2   1     2  \n",
      "288      1   1     3  \n",
      "289      1   1     3  \n",
      "290      2   1     3  \n",
      "291      0   3     1  \n",
      "292      1   2     1  \n",
      "293      1   0     3  \n",
      "294      0   0     1  \n",
      "295      2   2     3  \n",
      "296      1   0     2  \n",
      "297      1   2     1  \n",
      "298      1   0     3  \n",
      "299      1   0     3  \n",
      "300      1   2     3  \n",
      "301      1   1     3  \n",
      "302      1   1     2  \n",
      "\n",
      "[303 rows x 13 columns]\n"
     ]
    }
   ],
   "source": [
    "#Your code here \n",
    "X = df[df.columns[:-1]]\n",
    "y = df['target']\n",
    "\n",
    "print(X)"
   ]
  },
  {
   "cell_type": "markdown",
   "metadata": {},
   "source": [
    "## Normalize the Data\n",
    "Normalize the data prior to fitting the model."
   ]
  },
  {
   "cell_type": "code",
   "execution_count": null,
   "metadata": {},
   "outputs": [],
   "source": [
    "#Your code here"
   ]
  },
  {
   "cell_type": "markdown",
   "metadata": {},
   "source": [
    "## Train Test Split\n",
    "Split the data into train and test sets."
   ]
  },
  {
   "cell_type": "code",
   "execution_count": null,
   "metadata": {},
   "outputs": [],
   "source": [
    "#Your code here"
   ]
  },
  {
   "cell_type": "markdown",
   "metadata": {},
   "source": [
    "## Fit a model\n",
    "Fit an intial model to the training set. In SciKit Learn you do this by first creating an instance of the regression class. From there, then use the **fit** method from your class instance to fit a model to the training data."
   ]
  },
  {
   "cell_type": "code",
   "execution_count": null,
   "metadata": {},
   "outputs": [],
   "source": [
    "logreg = LogisticRegression(fit_intercept = False, C = 1e12) #Starter code\n",
    "#Your code here"
   ]
  },
  {
   "cell_type": "markdown",
   "metadata": {},
   "source": [
    "## Predict\n",
    "Generate predictions for the train and test sets. Use the **predict** method from the logreg object."
   ]
  },
  {
   "cell_type": "code",
   "execution_count": null,
   "metadata": {},
   "outputs": [],
   "source": [
    "#Your code here"
   ]
  },
  {
   "cell_type": "markdown",
   "metadata": {},
   "source": [
    "## Initial Evaluation\n",
    "How many times was the classifier correct for the training set?"
   ]
  },
  {
   "cell_type": "code",
   "execution_count": null,
   "metadata": {},
   "outputs": [],
   "source": [
    "#Your code here"
   ]
  },
  {
   "cell_type": "markdown",
   "metadata": {},
   "source": [
    "## How many times was the classifier correct for the test set?"
   ]
  },
  {
   "cell_type": "code",
   "execution_count": null,
   "metadata": {},
   "outputs": [],
   "source": [
    "#Your code here"
   ]
  },
  {
   "cell_type": "markdown",
   "metadata": {},
   "source": [
    "## Analysis\n",
    "Describe how well you think this initial model is based on the train and test performance. Within your description, make note of how you evaluated perforamnce as compared to our previous work with regression."
   ]
  },
  {
   "cell_type": "code",
   "execution_count": null,
   "metadata": {},
   "outputs": [],
   "source": [
    "#Your answer here"
   ]
  },
  {
   "cell_type": "markdown",
   "metadata": {},
   "source": [
    "## Summary\n",
    "\n",
    "In this lab, you practiced a standard data science pipeline, importing data, splitting into train and test sets and fitting a logistic regression model. In the upcoming labs and lessons, we'll continue to investigate how to analyze and tune these models for various scenarios."
   ]
  }
 ],
 "metadata": {
  "kernelspec": {
   "display_name": "Python 3",
   "language": "python",
   "name": "python3"
  },
  "language_info": {
   "codemirror_mode": {
    "name": "ipython",
    "version": 3
   },
   "file_extension": ".py",
   "mimetype": "text/x-python",
   "name": "python",
   "nbconvert_exporter": "python",
   "pygments_lexer": "ipython3",
   "version": "3.6.6"
  }
 },
 "nbformat": 4,
 "nbformat_minor": 2
}
